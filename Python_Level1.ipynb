{
 "cells": [
  {
   "cell_type": "code",
   "execution_count": null,
   "id": "98456f61",
   "metadata": {},
   "outputs": [],
   "source": [
    "# Why Python Programming language?\n",
    "# Language should be simple, easy to understnad and expressive language\n",
    "# Code should be managable\n",
    "# Source code will be converted to Intermedidate code using compliler and then interpreter will convert byte code to an output to user.\n",
    "# We use compiler and interpreter\n",
    "# Type of errors which we come across while coding are compile time error will be syntax error and indentation error based on compiler, run time errors are name error, value error, so on based on interpreter.\n",
    "# Python is portable(source code) and platform independent\n",
    "# python is free(no licence is required)and open source(source code is accessable freely)\n",
    "# python is interpreted language\n",
    "# python is dynamicaly typed language\n",
    "# python supports almost all the paradigms like scripting language, procedural language, functional language,modular language, and oops\n",
    "# python has huge community and library support.\n",
    "# We can run python code in Interactive mode and scripting mode.\n",
    "# Python used for Automation, Scientic research like data analysis and data visualization Web and Desktop application development.\n",
    "# Memory allocation in python is automatic, we dont have to mention data types of variables like other programming languages like C, Java.\n",
    "# we can check id using id()\n",
    "# For Integer, string( A to Z) and _ objects with value between (-5 to 256) memory address will be same same if we declare same ojects within the mentioned range to variables.\n",
    "# If we declare constant variable like (PI= 3.14) in capital letters through out the program, we can have clear understand whenever we refer our source code\n",
    "# Data types are Integer, Float, String, Boolean, complex, None, list[], Tuple(), Set{}, dictionary{K:V}, Frozenset{}, Bytes, bytearray, range, function, decortaor, Iteratores, Generators, user defined objects\n",
    "# Everything is an object in python\n",
    "# Objects can be mapped to identifiers\n",
    "# objects are always stored in heap area\n",
    "# objects consumes most of the memmory allocated to an application\n",
    "# We have input and output fuction in python\n",
    "# a=input()--> requests input from the user\n",
    "# print()will print output\n",
    "# we can check type of variable using type()\n",
    "# Eval(input())--> used for type casting\n",
    "# \\n - used for new line\n",
    "# \\t used for tab space \n",
    "# \\f used for form feed\n",
    "# \\\\ used to print \\\n",
    "# \\v used for vertical tab\n",
    "# Python Components are Literals, Identifiers, REserved words, experessions and statement, Block and indentation, comments, data tupes and operators\n",
    "# Literals are independent value or object or data--> Int= 10, 20, -20, float=1.1,-2.1, complex=1+2j, Boolean=1, 0, string=\"nfsjd\", None\n",
    "# Identifiers are any name used in program  with specic rules, its allows AtoZ, atoz, 0to9, it will not allow space character and special character, it should not start with number, Identifers are case sensitive.\n",
    "# Reserved words we can get using import keyword and print(keyword.kwlist)\n",
    "# Expression will always retuns some output and statement will not return any output\n",
    "# Blocks and indentation(tab space when we write any clock of code)- Sapce used to create block.\n",
    "# Commets are text in python for user understnad using # sysmbol we can comment\n",
    "# Data types are Integer, Float, String, Boolean, complex, None\n",
    "# Derived data types are Tuple(), Set{}, dictionary{K:V}, Frozenset{}, Bytes, bytearray, range, bytes, bytearray"
   ]
  },
  {
   "cell_type": "code",
   "execution_count": 2,
   "id": "a24d3ef7",
   "metadata": {},
   "outputs": [
    {
     "name": "stdout",
     "output_type": "stream",
     "text": [
      "level\n",
      "level  is a palindrome \n"
     ]
    }
   ],
   "source": [
    "# program using if else \n",
    "\n",
    "str_1=input()\n",
    "if (str_1[::-1]==str_1):\n",
    "    print(str_1,\" is a palindrome \")\n",
    "else:\n",
    "    print(str_1, \"not a palindrome\")"
   ]
  },
  {
   "cell_type": "code",
   "execution_count": 4,
   "id": "7ef638ed",
   "metadata": {},
   "outputs": [
    {
     "name": "stdout",
     "output_type": "stream",
     "text": [
      "Hello\n",
      "Programming\n"
     ]
    }
   ],
   "source": [
    "num_1=100\n",
    "num_2=300\n",
    "num_3=400\n",
    "if(num_1<num_2):\n",
    "    print(\"Hello\")\n",
    "if(num_2>num_3):\n",
    "    print(\"Python\")\n",
    "if(num_3>num_1):\n",
    "    print(\"Programming\")\n",
    "else:\n",
    "    print(\"Bye\")\n",
    "    "
   ]
  },
  {
   "cell_type": "code",
   "execution_count": 21,
   "id": "33c5ea2d",
   "metadata": {},
   "outputs": [
    {
     "name": "stdout",
     "output_type": "stream",
     "text": [
      "0123456789"
     ]
    }
   ],
   "source": [
    "for i in range(10):\n",
    "    print (i,end='')"
   ]
  },
  {
   "cell_type": "code",
   "execution_count": null,
   "id": "95970894",
   "metadata": {},
   "outputs": [],
   "source": []
  },
  {
   "cell_type": "code",
   "execution_count": null,
   "id": "99fc8b6b",
   "metadata": {},
   "outputs": [],
   "source": []
  },
  {
   "cell_type": "code",
   "execution_count": null,
   "id": "15278099",
   "metadata": {},
   "outputs": [],
   "source": []
  }
 ],
 "metadata": {
  "kernelspec": {
   "display_name": "Python 3 (ipykernel)",
   "language": "python",
   "name": "python3"
  },
  "language_info": {
   "codemirror_mode": {
    "name": "ipython",
    "version": 3
   },
   "file_extension": ".py",
   "mimetype": "text/x-python",
   "name": "python",
   "nbconvert_exporter": "python",
   "pygments_lexer": "ipython3",
   "version": "3.10.2"
  }
 },
 "nbformat": 4,
 "nbformat_minor": 5
}
