{
 "cells": [
  {
   "cell_type": "code",
   "execution_count": 3,
   "id": "616b02ba",
   "metadata": {},
   "outputs": [
    {
     "name": "stdout",
     "output_type": "stream",
     "text": [
      "Ceil\n"
     ]
    }
   ],
   "source": [
    "num_1=100\n",
    "num_2=300\n",
    "num_3=400\n",
    "if(num_1>num_2):\n",
    "    print(\"Shervani\")\n",
    "    if(num_3>num_2):\n",
    "        print(\"Python\")\n",
    "else:\n",
    "    print(\"Ceil\")"
   ]
  },
  {
   "cell_type": "code",
   "execution_count": 4,
   "id": "c4b143f1",
   "metadata": {},
   "outputs": [
    {
     "name": "stdout",
     "output_type": "stream",
     "text": [
      "Python\n"
     ]
    }
   ],
   "source": [
    "num_1=100\n",
    "num_2=300\n",
    "num_3=400\n",
    "if(num_1>num_2):\n",
    "    print(\"Shervani\")\n",
    "elif(num_3>num_2):\n",
    "    print(\"Python\")\n",
    "elif(num_2>num_3):\n",
    "    print(\"Language\")\n",
    "else:\n",
    "    print(\"Ceil\")"
   ]
  },
  {
   "cell_type": "code",
   "execution_count": 5,
   "id": "b7f517f7",
   "metadata": {},
   "outputs": [
    {
     "name": "stdout",
     "output_type": "stream",
     "text": [
      "Please enter the number:5\n",
      "0\n",
      "1\n",
      "1\n",
      "2\n",
      "3\n"
     ]
    }
   ],
   "source": [
    "# Febonaci series\n",
    "a=int(input(\"Please enter the number:\"))\n",
    "n=0\n",
    "s=1\n",
    "print(n)\n",
    "print(s)\n",
    "for i in range(2,a):\n",
    "    c=n+s\n",
    "    n=s\n",
    "    s=c\n",
    "    print(c)"
   ]
  },
  {
   "cell_type": "code",
   "execution_count": 6,
   "id": "e34cba26",
   "metadata": {},
   "outputs": [
    {
     "name": "stdout",
     "output_type": "stream",
     "text": [
      "Please enter value between 0 to 4:4\n",
      "FOUR\n"
     ]
    }
   ],
   "source": [
    "# take a user input from 0 to 4 and print the number in the word format\n",
    "\n",
    "number=input(\"Please enter value between 0 to 4:\")\n",
    "for i in number:\n",
    "    if(i=='0'):\n",
    "        print(\"ZERO\")\n",
    "    elif(i=='1'):\n",
    "        print(\"ONE\")\n",
    "    elif(i=='2'):\n",
    "        print(\"TWO\")\n",
    "    elif(i=='3'):\n",
    "        print(\"THREE\")\n",
    "    elif(i=='4'):\n",
    "        print(\"FOUR\")\n",
    "    else:\n",
    "        print(\"Invalid input\")\n"
   ]
  },
  {
   "cell_type": "code",
   "execution_count": 7,
   "id": "d7454ab6",
   "metadata": {},
   "outputs": [
    {
     "name": "stdout",
     "output_type": "stream",
     "text": [
      "A\n",
      "A\n",
      "A\n",
      "f\n",
      "f\n",
      "f\n",
      "s\n",
      "s\n",
      "s\n",
      "a\n",
      "a\n",
      "a\n",
      "n\n",
      "n\n",
      "n\n"
     ]
    }
   ],
   "source": [
    "a=\"Afsan\"\n",
    "for i in a:\n",
    "    for j in range(0,3):\n",
    "        print(i)"
   ]
  },
  {
   "cell_type": "code",
   "execution_count": 8,
   "id": "7b58a90e",
   "metadata": {},
   "outputs": [
    {
     "name": "stdout",
     "output_type": "stream",
     "text": [
      "1\n",
      "2\n",
      "3\n",
      "4\n",
      "4\n",
      "5\n"
     ]
    }
   ],
   "source": [
    "a=[[1,2],[3,4],[4,5]]\n",
    "for i in a:\n",
    "    for j in i:\n",
    "        print(j)"
   ]
  },
  {
   "cell_type": "code",
   "execution_count": 9,
   "id": "9b62157a",
   "metadata": {},
   "outputs": [
    {
     "name": "stdout",
     "output_type": "stream",
     "text": [
      "statement\n",
      "statement\n",
      "statement\n",
      "statement\n",
      "statement\n",
      "statement\n",
      "statement\n",
      "statement\n"
     ]
    }
   ],
   "source": [
    "i=2\n",
    "while i<10:\n",
    "    print(\"statement\")\n",
    "    i+=1"
   ]
  },
  {
   "cell_type": "code",
   "execution_count": null,
   "id": "22266a3c",
   "metadata": {},
   "outputs": [],
   "source": [
    "# i=0\n",
    "# j=False\n",
    "# while True:\n",
    "#     i+=1\n",
    "#     if(i==2):\n",
    "#         print(i)\n",
    "#         j=False"
   ]
  },
  {
   "cell_type": "code",
   "execution_count": 10,
   "id": "6fec860e",
   "metadata": {},
   "outputs": [
    {
     "name": "stdout",
     "output_type": "stream",
     "text": [
      "p\n",
      "yy\n",
      "ttt\n",
      "hhhh\n",
      "ooooo\n",
      "nnnnnn\n"
     ]
    }
   ],
   "source": [
    "a=\"python\"\n",
    "for i in a:\n",
    "    if(i==a[0]):\n",
    "        print(a[0])\n",
    "    if(i==a[1]):\n",
    "        print(a[1]*2)\n",
    "    if(i==a[2]):\n",
    "        print(a[2]*3)\n",
    "    if(i==a[3]):\n",
    "        print(a[3]*4)\n",
    "    if(i==a[4]):\n",
    "        print(a[4]*5)\n",
    "    if(i==a[5]):\n",
    "        print(a[5]*6)"
   ]
  },
  {
   "cell_type": "code",
   "execution_count": 11,
   "id": "5a9211cc",
   "metadata": {},
   "outputs": [
    {
     "name": "stdout",
     "output_type": "stream",
     "text": [
      "p\n",
      "yy\n",
      "ttt\n",
      "hhhh\n",
      "ooooo\n",
      "nnnnnn\n"
     ]
    }
   ],
   "source": [
    "a='python'\n",
    "i=0\n",
    "while i<len(a):\n",
    "    print(a[i]*(i+1))\n",
    "    i+=1"
   ]
  },
  {
   "cell_type": "code",
   "execution_count": 12,
   "id": "0e982e7a",
   "metadata": {},
   "outputs": [
    {
     "name": "stdout",
     "output_type": "stream",
     "text": [
      "nnnnnn\n",
      "ooooo\n",
      "hhhh\n",
      "ttt\n",
      "yy\n",
      "p\n"
     ]
    }
   ],
   "source": [
    "a='python'\n",
    "b=a[::-1]\n",
    "i=0\n",
    "while i<len(b):\n",
    "    print(b[i]*(6-i))\n",
    "    i+=1"
   ]
  },
  {
   "cell_type": "code",
   "execution_count": null,
   "id": "d7c82004",
   "metadata": {},
   "outputs": [],
   "source": []
  },
  {
   "cell_type": "code",
   "execution_count": null,
   "id": "23c2d833",
   "metadata": {},
   "outputs": [],
   "source": []
  }
 ],
 "metadata": {
  "kernelspec": {
   "display_name": "Python 3 (ipykernel)",
   "language": "python",
   "name": "python3"
  },
  "language_info": {
   "codemirror_mode": {
    "name": "ipython",
    "version": 3
   },
   "file_extension": ".py",
   "mimetype": "text/x-python",
   "name": "python",
   "nbconvert_exporter": "python",
   "pygments_lexer": "ipython3",
   "version": "3.10.2"
  }
 },
 "nbformat": 4,
 "nbformat_minor": 5
}
